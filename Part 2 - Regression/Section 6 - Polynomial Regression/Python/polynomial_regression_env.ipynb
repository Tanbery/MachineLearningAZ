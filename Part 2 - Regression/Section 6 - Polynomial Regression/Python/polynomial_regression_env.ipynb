{
  "nbformat": 4,
  "nbformat_minor": 2,
  "metadata": {
    "colab": {
      "name": "polynomial_regression.ipynb",
      "provenance": [],
      "collapsed_sections": [],
      "toc_visible": true
    },
    "kernelspec": {
      "name": "python3",
      "display_name": "Python 3.9.6 64-bit"
    },
    "language_info": {
      "name": "python",
      "version": "3.9.6",
      "mimetype": "text/x-python",
      "codemirror_mode": {
        "name": "ipython",
        "version": 3
      },
      "pygments_lexer": "ipython3",
      "nbconvert_exporter": "python",
      "file_extension": ".py"
    },
    "interpreter": {
      "hash": "864cefb13d729383c3394a7484fb8b347152a456078d40ac4c14856748a83f41"
    }
  },
  "cells": [
    {
      "cell_type": "markdown",
      "source": [
        "## Polynomial Regression\r\n",
        "## Transform features as poly mode as features."
      ],
      "metadata": {
        "id": "vN99YjPTDena",
        "colab_type": "text"
      }
    },
    {
      "cell_type": "markdown",
      "source": [
        "## Importing the libraries"
      ],
      "metadata": {
        "id": "ZIx_naXnDyHd",
        "colab_type": "text"
      }
    },
    {
      "cell_type": "code",
      "execution_count": 47,
      "source": [
        "import numpy as np\r\n",
        "import matplotlib.pyplot as plt\r\n",
        "import pandas as pd"
      ],
      "outputs": [],
      "metadata": {
        "id": "FjnmdyPLD2tS",
        "colab_type": "code",
        "colab": {}
      }
    },
    {
      "cell_type": "markdown",
      "source": [
        "## Importing the dataset"
      ],
      "metadata": {
        "id": "6c8YExmOD5x5",
        "colab_type": "text"
      }
    },
    {
      "cell_type": "code",
      "execution_count": 48,
      "source": [
        "ds = pd.read_csv(\"Position_Salaries.csv\")\r\n",
        "X = ds.iloc[:,1:-1].values\r\n",
        "y = ds.iloc[:,-1].values\r\n",
        "# print(X)\r\n",
        "# from sklearn.model_selection import train_test_split\r\n",
        "# X_train, X_test, y_train, y_test = train_test_split(X, y, test_size = 0.2, random_state = 0)"
      ],
      "outputs": [],
      "metadata": {}
    },
    {
      "cell_type": "markdown",
      "source": [
        "## Training the Linear Regression model on the whole dataset"
      ],
      "metadata": {
        "id": "Le8SEL-YEOLb",
        "colab_type": "text"
      }
    },
    {
      "cell_type": "code",
      "execution_count": 49,
      "source": [
        "from sklearn.linear_model import LinearRegression\r\n",
        "lin_reg = LinearRegression()\r\n",
        "lin_reg.fit(X,y)\r\n",
        "# print(lin_reg)"
      ],
      "outputs": [
        {
          "output_type": "execute_result",
          "data": {
            "text/plain": [
              "LinearRegression()"
            ]
          },
          "metadata": {},
          "execution_count": 49
        }
      ],
      "metadata": {}
    },
    {
      "cell_type": "markdown",
      "source": [
        "## Training the Polynomial Regression model on the whole dataset"
      ],
      "metadata": {
        "id": "Rb5nWuSHEfBV",
        "colab_type": "text"
      }
    },
    {
      "cell_type": "code",
      "execution_count": 50,
      "source": [
        "from sklearn.preprocessing import PolynomialFeatures\r\n",
        "poly_reg = PolynomialFeatures(degree=10)\r\n",
        "#Transform features as poly mode as feature.\r\n",
        "X_poly = poly_reg.fit_transform(X)\r\n",
        "lin_reg2 = LinearRegression()\r\n",
        "lin_reg2.fit(X_poly,y)"
      ],
      "outputs": [
        {
          "output_type": "execute_result",
          "data": {
            "text/plain": [
              "LinearRegression()"
            ]
          },
          "metadata": {},
          "execution_count": 50
        }
      ],
      "metadata": {}
    },
    {
      "cell_type": "markdown",
      "source": [
        "## Visualising the Linear Regression results"
      ],
      "metadata": {
        "id": "0O8R0tzbEpvy",
        "colab_type": "text"
      }
    },
    {
      "cell_type": "code",
      "execution_count": 51,
      "source": [
        "plt.scatter(X, y, color = 'red')\r\n",
        "plt.plot(X, lin_reg.predict(X), color = 'blue')\r\n",
        "plt.title('Truth or Bluff (Linear Regression)')\r\n",
        "plt.xlabel('Position Level')\r\n",
        "plt.ylabel('Salary')\r\n",
        "plt.show()"
      ],
      "outputs": [
        {
          "output_type": "display_data",
          "data": {
            "image/png": "[encoded data removed]",
            "text/plain": [
              "<Figure size 432x288 with 1 Axes>"
            ]
          },
          "metadata": {
            "needs_background": "light"
          }
        }
      ],
      "metadata": {}
    },
    {
      "cell_type": "markdown",
      "source": [
        "## Visualising the Polynomial Regression results"
      ],
      "metadata": {
        "id": "stOnSo74E52m",
        "colab_type": "text"
      }
    },
    {
      "cell_type": "code",
      "execution_count": 55,
      "source": [
        "plt.scatter(X, y, color = 'red')\r\n",
        "plt.plot(X, lin_reg2.predict(poly_reg.fit_transform(X)), color = 'blue')\r\n",
        "plt.title('Truth or Bluff (Polynomial Regression)')\r\n",
        "plt.xlabel('Position Level')\r\n",
        "plt.ylabel('Salary')\r\n",
        "plt.show()"
      ],
      "outputs": [
        {
          "output_type": "display_data",
          "data": {
            "image/png": "[encoded data removed]",
            "text/plain": [
              "<Figure size 432x288 with 1 Axes>"
            ]
          },
          "metadata": {
            "needs_background": "light"
          }
        }
      ],
      "metadata": {}
    },
    {
      "cell_type": "markdown",
      "source": [
        "## Predicting a new result with Linear Regression"
      ],
      "metadata": {
        "id": "diyJFZHhFFeK",
        "colab_type": "text"
      }
    },
    {
      "cell_type": "code",
      "execution_count": 56,
      "source": [
        "lin_reg.predict([[6.5]])"
      ],
      "outputs": [
        {
          "output_type": "execute_result",
          "data": {
            "text/plain": [
              "array([330378.78787879])"
            ]
          },
          "metadata": {},
          "execution_count": 56
        }
      ],
      "metadata": {}
    },
    {
      "cell_type": "markdown",
      "source": [
        "## Predicting a new result with Polynomial Regression"
      ],
      "metadata": {
        "id": "DW7I7ZVDFNkk",
        "colab_type": "text"
      }
    },
    {
      "cell_type": "code",
      "execution_count": 57,
      "source": [
        "lin_reg2.predict(poly_reg.fit_transform([[6.5]]))"
      ],
      "outputs": [
        {
          "output_type": "execute_result",
          "data": {
            "text/plain": [
              "array([172421.91750643])"
            ]
          },
          "metadata": {},
          "execution_count": 57
        }
      ],
      "metadata": {}
    }
  ]
}